{
 "cells": [
  {
   "cell_type": "code",
   "execution_count": 2,
   "metadata": {},
   "outputs": [
    {
     "name": "stdout",
     "output_type": "stream",
     "text": [
      "\t\t\t2019년 9월\n",
      "\n",
      "일\t월\t화\t수\t목\t금\t토\n",
      "1\t2\t3\t4\t5\t6\t7\n",
      "8\t9\t10\t11\t12\t13\t14\n",
      "15\t16\t17\t18\t19\t20\t21\n",
      "22\t23\t24\t25\t26\t27\t28\n",
      "29\t30\t\n"
     ]
    }
   ],
   "source": [
    "print('\\t\\t\\t2019년 9월\\n')\n",
    "print('일\\t월\\t화\\t수\\t목\\t금\\t토')\n",
    "print('1\\t2\\t3\\t4\\t5\\t6\\t7')\n",
    "print('8\\t9\\t10\\t11\\t12\\t13\\t14')\n",
    "print('15\\t16\\t17\\t18\\t19\\t20\\t21')\n",
    "print('22\\t23\\t24\\t25\\t26\\t27\\t28')\n",
    "print('29\\t30\\t')"
   ]
  },
  {
   "cell_type": "code",
   "execution_count": 8,
   "metadata": {},
   "outputs": [
    {
     "name": "stdout",
     "output_type": "stream",
     "text": [
      "\t\t\t2019년 9월\n",
      "\n",
      "일\t월\t화\t수\t목\t금\t토\n",
      "1\t\n",
      "2\t\n",
      "3\t\n",
      "4\t\n",
      "5\t\n",
      "6\t\n",
      "7\t\n",
      "8\t\n",
      "9\t\n",
      "10\t\n",
      "11\t\n",
      "12\t\n",
      "13\t\n",
      "14\t\n",
      "15\t\n",
      "16\t\n",
      "17\t\n",
      "18\t\n",
      "19\t\n",
      "20\t\n",
      "21\t\n",
      "22\t\n",
      "23\t\n",
      "24\t\n",
      "25\t\n",
      "26\t\n",
      "27\t\n",
      "28\t\n",
      "29\t\n",
      "30\t\n"
     ]
    }
   ],
   "source": []
  },
  {
   "cell_type": "code",
   "execution_count": 9,
   "metadata": {},
   "outputs": [
    {
     "name": "stdout",
     "output_type": "stream",
     "text": [
      "\t\t\t2019년 7월\n",
      "\n",
      "일\t월\t화\t수\t목\t금\t토\n",
      "\t1\t2\t3\t4\t5\t6\t\n",
      "7\t8\t9\t10\t11\t12\t13\t\n",
      "14\t15\t16\t17\t18\t19\t20\t\n",
      "21\t22\t23\t24\t25\t26\t27\t\n",
      "28\t29\t30\t31\t"
     ]
    }
   ],
   "source": [
    "month = 7\n",
    "space = 1\n",
    "last_day = 31\n",
    "print('\\t\\t\\t2019년 {}월\\n'.format(month))\n",
    "print('일\\t월\\t화\\t수\\t목\\t금\\t토')\n",
    "for i in range(space):\n",
    "    print('\\t',end='')\n",
    "    pass\n",
    "\n",
    "for i in range(1,last_day+1):\n",
    "    print('{}\\t'.format(i),end='')\n",
    "    if (i+space) % 7 == 0:\n",
    "        print()\n"
   ]
  },
  {
   "cell_type": "code",
   "execution_count": 10,
   "metadata": {},
   "outputs": [
    {
     "name": "stdout",
     "output_type": "stream",
     "text": [
      "\t\t\t2019년 9월\n",
      "\n",
      "일\t월\t화\t수\t목\t금\t토\n",
      "1\t\n",
      "2\t\n",
      "3\t\n",
      "4\t\n",
      "5\t\n",
      "6\t\n",
      "7\t\n",
      "8\t\n",
      "9\t\n",
      "10\t\n",
      "11\t\n",
      "12\t\n",
      "13\t\n",
      "14\t\n",
      "15\t\n",
      "16\t\n",
      "17\t\n",
      "18\t\n",
      "19\t\n",
      "20\t\n",
      "21\t\n",
      "22\t\n",
      "23\t\n",
      "24\t\n",
      "25\t\n",
      "26\t\n",
      "27\t\n",
      "28\t\n",
      "29\t\n",
      "30\t\n"
     ]
    }
   ],
   "source": [
    "#step1\n",
    "\n",
    "print('\\t\\t\\t2019년 9월\\n')\n",
    "print('일\\t월\\t화\\t수\\t목\\t금\\t토')\n",
    "for i in range(1,31):\n",
    "    print('{}\\t'.format(i))"
   ]
  },
  {
   "cell_type": "code",
   "execution_count": 12,
   "metadata": {},
   "outputs": [
    {
     "name": "stdout",
     "output_type": "stream",
     "text": [
      "\t\t\t2019년 9월\n",
      "\n",
      "일\t월\t화\t수\t목\t금\t토\n",
      "1\t2\t3\t4\t5\t6\t7\t8\t9\t10\t11\t12\t13\t14\t15\t16\t17\t18\t19\t20\t21\t22\t23\t24\t25\t26\t27\t28\t29\t30\t"
     ]
    }
   ],
   "source": [
    "#step2\n",
    "\n",
    "print('\\t\\t\\t2019년 9월\\n')\n",
    "print('일\\t월\\t화\\t수\\t목\\t금\\t토')\n",
    "for i in range(1,31):\n",
    "    print('{}\\t'.format(i), end = \"\")"
   ]
  },
  {
   "cell_type": "code",
   "execution_count": 21,
   "metadata": {},
   "outputs": [
    {
     "name": "stdout",
     "output_type": "stream",
     "text": [
      "\t\t\t2019년 9월\n",
      "\n",
      "일\t월\t화\t수\t목\t금\t토\n",
      "1\t2\t3\t4\t5\t6\t7\t\n",
      "8\t9\t10\t11\t12\t13\t14\t\n",
      "15\t16\t17\t18\t19\t20\t21\t\n",
      "22\t23\t24\t25\t26\t27\t28\t\n",
      "29\t30\t"
     ]
    }
   ],
   "source": [
    "#step3\n",
    "\n",
    "print('\\t\\t\\t2019년 9월\\n')\n",
    "print('일\\t월\\t화\\t수\\t목\\t금\\t토')\n",
    "for i in range(1,31):\n",
    "    print('{}\\t'.format(i), end = \"\")\n",
    "    if i % 7 == 0:\n",
    "        print()"
   ]
  },
  {
   "cell_type": "code",
   "execution_count": 25,
   "metadata": {},
   "outputs": [
    {
     "name": "stdout",
     "output_type": "stream",
     "text": [
      "\t\t\t2019년 12월\n",
      "\n",
      "일\t월\t화\t수\t목\t금\t토\n",
      "1\t2\t3\t4\t5\t6\t7\t\n",
      "8\t9\t10\t11\t12\t13\t14\t\n",
      "15\t16\t17\t18\t19\t20\t21\t\n",
      "22\t23\t24\t25\t26\t27\t28\t\n",
      "29\t30\t31\t"
     ]
    }
   ],
   "source": [
    "#step4 : 다른달로 적용해보기 (달을 변수로 바꿈)\n",
    "\n",
    "month = 12\n",
    "month_day = 31\n",
    "\n",
    "print('\\t\\t\\t2019년 {}월\\n'.format(month))\n",
    "print('일\\t월\\t화\\t수\\t목\\t금\\t토')\n",
    "for i in range(1,month_day+1):\n",
    "    print('{}\\t'.format(i), end = \"\")\n",
    "    if i % 7 == 0:\n",
    "        print()"
   ]
  },
  {
   "cell_type": "code",
   "execution_count": 31,
   "metadata": {},
   "outputs": [
    {
     "name": "stdout",
     "output_type": "stream",
     "text": [
      "\t\t\t2019년 11월\n",
      "\n",
      "일\t월\t화\t수\t목\t금\t토\n",
      "\t \t \t \t \t 1\t2\t3\t4\t5\t6\t7\t\n",
      "8\t9\t10\t11\t12\t13\t14\t\n",
      "15\t16\t17\t18\t19\t20\t21\t\n",
      "22\t23\t24\t25\t26\t27\t28\t\n",
      "29\t30\t"
     ]
    }
   ],
   "source": [
    "#step5 : 일요일 시작이 아닌 달 한개 만들어보기 (앞에 공간 만들기)\n",
    "\n",
    "month = 11\n",
    "space = 5\n",
    "month_day = 30\n",
    "\n",
    "print('\\t\\t\\t2019년 {}월\\n'.format(month))\n",
    "print('일\\t월\\t화\\t수\\t목\\t금\\t토')\n",
    "for k in range(space):\n",
    "    print(\"\\t\", end = \" \")\n",
    "    \n",
    "for i in range(1,month_day+1):\n",
    "    print('{}\\t'.format(i), end = \"\")\n",
    "    if i % 7 == 0:\n",
    "        print()"
   ]
  },
  {
   "cell_type": "code",
   "execution_count": 32,
   "metadata": {},
   "outputs": [
    {
     "name": "stdout",
     "output_type": "stream",
     "text": [
      "\t\t\t2019년 11월\n",
      "\n",
      "일\t월\t화\t수\t목\t금\t토\n",
      "\t \t \t \t \t 1\t2\t\n",
      "3\t4\t5\t6\t7\t8\t9\t\n",
      "10\t11\t12\t13\t14\t15\t16\t\n",
      "17\t18\t19\t20\t21\t22\t23\t\n",
      "24\t25\t26\t27\t28\t29\t30\t\n"
     ]
    }
   ],
   "source": [
    "#step6 : 일요일 시작이 아닌 달 한개 만들어보기 (칸맞추기)\n",
    "\n",
    "month = 11\n",
    "space = 5\n",
    "month_day = 30\n",
    "\n",
    "print('\\t\\t\\t2019년 {}월\\n'.format(month))\n",
    "print('일\\t월\\t화\\t수\\t목\\t금\\t토')\n",
    "for k in range(space):\n",
    "    print(\"\\t\", end = \" \")\n",
    "    \n",
    "for i in range(1,month_day+1):\n",
    "    print('{}\\t'.format(i), end = \"\")\n",
    "    if i % 7 == 2:   #나머지 숫자 변경\n",
    "        print()"
   ]
  },
  {
   "cell_type": "code",
   "execution_count": 34,
   "metadata": {},
   "outputs": [
    {
     "name": "stdout",
     "output_type": "stream",
     "text": [
      "\t\t\t2019년 11월\n",
      "\n",
      "일\t월\t화\t수\t목\t금\t토\n",
      "\t \t \t \t \t 1\t2\t\n",
      "3\t4\t5\t6\t7\t8\t9\t\n",
      "10\t11\t12\t13\t14\t15\t16\t\n",
      "17\t18\t19\t20\t21\t22\t23\t\n",
      "24\t25\t26\t27\t28\t29\t30\t\n"
     ]
    }
   ],
   "source": [
    "#step7 : 일요일 시작이 아닌 달 한개 만들어보기 (칸맞추기, 변수화)\n",
    "\n",
    "month = 11\n",
    "space = 5\n",
    "month_day = 30\n",
    "\n",
    "print('\\t\\t\\t2019년 {}월\\n'.format(month))\n",
    "print('일\\t월\\t화\\t수\\t목\\t금\\t토')\n",
    "for k in range(space):\n",
    "    print(\"\\t\", end = \" \")\n",
    "    \n",
    "for i in range(1,month_day+1):\n",
    "    print('{}\\t'.format(i), end = \"\")\n",
    "    if i % 7 == 7-space:\n",
    "        print()"
   ]
  }
 ],
 "metadata": {
  "kernelspec": {
   "display_name": "Python 3",
   "language": "python",
   "name": "python3"
  },
  "language_info": {
   "codemirror_mode": {
    "name": "ipython",
    "version": 3
   },
   "file_extension": ".py",
   "mimetype": "text/x-python",
   "name": "python",
   "nbconvert_exporter": "python",
   "pygments_lexer": "ipython3",
   "version": "3.7.4"
  }
 },
 "nbformat": 4,
 "nbformat_minor": 2
}
